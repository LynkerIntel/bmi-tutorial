{
 "cells": [
  {
   "cell_type": "markdown",
   "id": "2462c0db",
   "metadata": {},
   "source": [
    "**<font size=\"6\">Get your model ready for NextGen with BMI</font>**  \n",
    "<font size=\"5\">Part of the 2024 CIROH Training and Developers Conference</font>  \n",
    "<font size=\"4\">2024-05-28 through 2024-06-01  \n",
    "University of Utah  \n",
    "Salt Lake City, UT</font>  \n",
    "\n",
    "Keith Jennings | Lynker, NOAA Affiliate | <kjennings@lynker.com> | <keith.jennings@noaa.gov> | <https://github.com/SnowHydrology> \n",
    "\n",
    "Nels Frazier | Lynker, NOAA Affiliate | <nfrazier@lynker.com> | <nels.frazier@noaa.gov> | <https://github.com/hellkite500>"
   ]
  },
  {
   "cell_type": "markdown",
   "id": "b40bc787",
   "metadata": {},
   "source": [
    "# 0 What is this?\n",
    "\n",
    "This Jupyter Notebook will do something a little different and first show you *what not to do* if you're trying to making a portable, interoperable, modularized model that the community can test, improve, and deploy. \n",
    "\n",
    "After we experience the wrong way of doing things, we'll see how we can improve a basic, poorly constructed model to make it all of the things it's not (spoiler alert: it's called the Basic Model Interface, or BMI for short). \n",
    "\n",
    "Finally, we'll demonstrate the new capabilities of this improved model by examining BMI functions and running a simulation in the Next Generation Water Resources Modeling Framework.\n",
    "\n",
    "## 0.1 Requirements \n",
    "\n",
    "We are relying on a few simple bits of Python code developed with Python 3.9 in [PyCharm](https://www.jetbrains.com/pycharm/). The `snowBMI` module requires:\n",
    "\n",
    "* The [BMI Python bindings](https://github.com/csdms/bmi-python) from CSDMS\n",
    "  * Follow their instructions to build the bindings\n",
    "* `numpy`\n",
    "* `yaml`\n",
    "\n",
    "Running the example notebook also requires:\n",
    "\n",
    "* [Jupyter Notebook](https://jupyter.org/)\n",
    "* `pandas`\n",
    "* `Matplotlib`\n",
    "\n",
    "The `snowBMI` model is available here: https://github.com/SnowHydrology/snowBMI\n",
    "\n",
    "You can clone the code by opening a terminal window and running:\n",
    "\n",
    "`git clone https://github.com/SnowHydrology/snowBMI.git` \n",
    "\n",
    "Or, you can download a zip file of the code from GitHub. \n",
    "\n",
    "![image.png](attachment:image.png)\n",
    "\n",
    "Once you've gotten the code on your machine, install it by going to the main level of the `snowBMI` directory and typing the following into a terminal window:\n",
    "\n",
    "`pip install -e .`\n",
    "\n",
    "*Note: pip is included with most newer Python distributions. Note 2: The Python BMI bindings need to be installed before this module.*\n",
    "\n",
    "## 0.2 Import Python packages\n",
    "\n",
    "Some of these we won't use off the bat, but we'll get them loaded here so we don't forget later."
   ]
  },
  {
   "cell_type": "code",
   "execution_count": 9,
   "id": "c2f060ca",
   "metadata": {},
   "outputs": [],
   "source": [
    "import os\n",
    "import urllib.request\n",
    "import numpy as np\n",
    "import pandas as pd\n",
    "import matplotlib.pyplot as plt\n",
    "\n",
    "from snow import SnowBmi"
   ]
  },
  {
   "cell_type": "markdown",
   "id": "2e007e83",
   "metadata": {},
   "source": [
    "# 1 What not to do\n",
    "\n",
    "Let's say you're a hydrologist and you want to develop a new model. Your domain knowledge is expert tier, but your software development experience is lacking. (Guilty.)\n",
    "\n",
    "So, what you do is make a simple Python (or R or Fortran or C, etc.) script that reads in data, sets model parameters, runs some process-based equations, and writes output data.\n",
    "\n",
    "You open the output data and it matches your expectations, so you're super excited. But then bad things start happening.\n",
    "\n",
    "You share your script and no one can understand it. What are the output variables? What are their units? What's the time step? How are parameter values configured and changed? What is the time step? How is a new module added? So on and so forth.\n",
    "\n",
    "This model exists and I call it snowPy, but it could really be one of myriad models or their prototypes. Many of us have been guilty of committing at least one of the soon-to-be-demonstrated trangressions at some point in our careers.\n",
    "\n",
    "The hope is that by examining and critically evaluating them, we can improve model portability and interoperability.\n",
    "\n",
    "## 1.1 Introducing snowPy\n",
    "\n",
    "`snowPy` is a simple temperature-index snow accumulation and melt model written in Python, which you can find on [GitHub](https://github.com/SnowHydrology/snowPy). It estimates snowmelt as a function of the number of degrees air temperature is above a melting threshold and a factor that converts that difference to a melt depth. \n",
    "\n",
    "This simple implementation is about as bare bones as you can get. It doesn't account for snow hydrology, any explicit energy states and fluxes, etc.\n",
    "\n",
    "Because it's a script and we're going to run it out of this directory, we can just download it directly."
   ]
  },
  {
   "cell_type": "code",
   "execution_count": 2,
   "id": "c89efb93",
   "metadata": {},
   "outputs": [
    {
     "data": {
      "text/plain": [
       "('snow.py', <http.client.HTTPMessage at 0x7fa1fa846af0>)"
      ]
     },
     "execution_count": 2,
     "metadata": {},
     "output_type": "execute_result"
    }
   ],
   "source": [
    "url = 'https://raw.githubusercontent.com/SnowHydrology/snowPy/main/snowPy/snow.py'\n",
    "filename = 'snow.py'\n",
    "urllib.request.urlretrieve(url, filename)"
   ]
  },
  {
   "cell_type": "markdown",
   "id": "9ea7121e",
   "metadata": {},
   "source": [
    "You'll notice that `snowPy` is just a single file, aptly called `snow.py`\n",
    "\n",
    "It can be broken out into a few sections (and, remember, this is the wrong way of doing things).\n",
    "\n",
    "### 1.1.1 Hard-coded parameter values\n",
    "\n",
    "At the top of the file are all of the hard-coded parameter values. They are not read in from a configuration file, so if you change any of their values, you are changing the model file itself. Yikes!\n",
    "\n",
    "```python\n",
    "# Configure snowPy model options\n",
    "rs_method = 1         # 1 = single threshold, 2 = dual threshold\n",
    "rs_thresh = 2.5       # rain-snow temperature threshold when rs_method = 1 (°C)\n",
    "snow_thresh_max = 1.5 # maximum all-snow temp when rs_method = 2 (°C)\n",
    "rain_thresh_min = 4.5 # minimum all-rain temp when rs_method = 2 (°C)\n",
    "```\n",
    "\n",
    "### 1.1.2 Hard-coded time values\n",
    "\n",
    "After that we have more hard-coded values. Double yikes!\n",
    "\n",
    "```python\n",
    "# Initialize time information\n",
    "time = 0.0            # current simulation time in seconds\n",
    "time_step = 86400     # time step size in seconds\n",
    "dayofyear = 274       # Day of year of simulation start (ex: 1 = Jan 1, 274 = Oct 1)\n",
    "year = 2020           # year of simulation start\n",
    "```\n",
    "\n",
    "### 1.1.3 Hard-coded forcing data path\n",
    "\n",
    "And then a hard-coded path to the forcing data file. Triple yikes!\n",
    "\n",
    "```python\n",
    "# Import the example SNOTEL data\n",
    "forcing = pd.read_csv(\"../data/snotel_663_data.csv\")\n",
    "```\n",
    "\n",
    "### 1.1.4 The model run loop\n",
    "\n",
    "Next we have the model update loop, a truncated excerpt of which is below.\n",
    "\n",
    "```python\n",
    "# Loop through the data and run snowBMI\n",
    "for i in range(forcing.date.size):\n",
    "\n",
    "    # Get forcing info\n",
    "    air_temperature = np.full(1, forcing.tair_c[i])\n",
    "    precip = np.full(1, forcing.ppt_mm[i])\n",
    "\n",
    "    ...\n",
    "    \n",
    "     # Compute degree day factor for melt calcs\n",
    "    ddf = ((ddf_max + ddf_min) / 2) + (np.sin((dayofyear - 81) / 58.09) * ((ddf_max - ddf_min) / 2))\n",
    "\n",
    "    # Compute potential melt\n",
    "    if air_temperature > tair_melt_thresh:\n",
    "        melt_pot_mm = (air_temperature - tair_melt_thresh) * ddf\n",
    "    else:\n",
    "        melt_pot_mm = 0\n",
    "        \n",
    "    ...\n",
    "```\n",
    "\n",
    "This is pretty standard stuff, but we have all of the hydrologic modeling code inside of an execution loop that we would generally want in a driver. (And none of it is modularized!)\n",
    "\n",
    "### 1.1.5 Hard-coded output data path\n",
    "\n",
    "At the end, `snowPy` writes output to a CSV file, whose path and name are hard-coded.\n",
    "\n",
    "```python\n",
    "np.savetxt(\"../data/swe_sim_663.csv\", swe_output, delimiter=\",\", fmt='%.2e', header = 'sim_swe_mm')\n",
    "```\n",
    "\n",
    "## 1.2 Running snowPy\n",
    "\n",
    "Now we can run the `snowPy` model from our notebook."
   ]
  },
  {
   "cell_type": "code",
   "execution_count": 3,
   "id": "b2bb87d5",
   "metadata": {},
   "outputs": [],
   "source": [
    "%run snow.py"
   ]
  },
  {
   "cell_type": "markdown",
   "id": "3682fc9b",
   "metadata": {},
   "source": [
    "And read the simulated snow water equivalent (SWE) into our session"
   ]
  },
  {
   "cell_type": "code",
   "execution_count": 4,
   "id": "f309868d",
   "metadata": {},
   "outputs": [],
   "source": [
    "snowpy_output = pd.read_csv(\"../data/swe_sim_663.csv\")"
   ]
  },
  {
   "cell_type": "markdown",
   "id": "aa165a06",
   "metadata": {},
   "source": [
    "And plot it."
   ]
  },
  {
   "cell_type": "code",
   "execution_count": 5,
   "id": "2c6f5616",
   "metadata": {},
   "outputs": [
    {
     "data": {
      "image/png": "[encoded data removed]",
      "text/plain": [
       "<Figure size 720x504 with 1 Axes>"
      ]
     },
     "metadata": {
      "needs_background": "light"
     },
     "output_type": "display_data"
    }
   ],
   "source": [
    "plt.figure(figsize=(10, 7))\n",
    "plt.plot(snowpy_output,label='Sim. SWE')\n",
    "plt.ylabel('SWE (mm)')\n",
    "plt.xlabel('Day of Simulation')\n",
    "plt.legend()\n",
    "plt.show()\n",
    "plt.close()"
   ]
  },
  {
   "cell_type": "markdown",
   "id": "583940b0",
   "metadata": {},
   "source": [
    "## 1.3 Sharing, modifying, coupling, controlling (from a central framework) snowPy\n",
    "\n",
    "Let's now return to imagining ourselves as hydrologists. If we were running a one-off study, having a single-file might be okay, but still not ideal. The problems only magnify if we consider the broader research to operations pathway. Let's enumerate them with a few themes:\n",
    "\n",
    "**Sharing**\n",
    "\n",
    "1) There are no functions that describe the model. Yes, someone can read the comments. But what if they had to understand multiple models? What if each model comprised thousands of lines of code instead of less than 100?\n",
    "\n",
    "**Modifying**\n",
    "\n",
    "2) There is no way to change parameter values, file paths, etc. without changing the `.py` model file itself. What if you or a colleague want to deploy the model in a different location or over a different temporal extent and time step?\n",
    "\n",
    "3) The only way to add new processes/capabilities to the model is to change the single file in the source code. There are no modules that can be swapped in and out. You can't call functions from a central driver or program.\n",
    "\n",
    "**Coupling**\n",
    "\n",
    "4) There are only two ways to couple this model: through soft coupling (running the model, saving its output, and using that as forcing for another model) or changing its source code entirely.\n",
    "\n",
    "**Controlling**\n",
    "\n",
    "5) A centralized framework (e.g., NextGen) cannot control model runtime in any standardized way."
   ]
  },
  {
   "cell_type": "markdown",
   "id": "7b8b986e",
   "metadata": {},
   "source": [
    "# 2 The right way\n",
    "\n",
    "Fortunately, we can remedy most of these issues by first making `snowPy` BMI compliant and then implementing the full set of BMI functions.\n",
    "\n",
    "## 2.1 BMI background\n",
    "\n",
    "The Community Surface Dynamics Modeling System ([CSDMS](https://csdms.colorado.edu/)) group at the University of Colorado Boulder develops and maintains BMI. You can find further information on the [BMI GitHub page](https://github.com/csdms/bmi) or on the [CSDMS Wiki](https://csdms.colorado.edu/wiki/BMI).\n",
    "\n",
    "The two reference papers for BMI are:\n",
    "\n",
    "- *Hutton, E.W., Piper, M.D., and Tucker, G.E., 2020. The Basic Model Interface 2.0: A standard interface for coupling numerical models in the geosciences. Journal of Open Source Software, 5(51), 2317, https://doi.org/10.21105/joss.02317.*\n",
    "- *Peckham, S.D., Hutton, E.W., and Norris, B., 2013. A component-based approach to integrated modeling in the geosciences: The design of CSDMS. Computers & Geosciences, 53, pp.3-12, http://dx.doi.org/10.1016/j.cageo.2012.04.002.*\n",
    "\n",
    "The CSDMS `heat` [example](https://github.com/csdms/bmi-example-python) is a great reference for BMI implementations. We based the `snowBMI` model, which we'll see shortly, heavily on the CSDMS examples. \n",
    "\n",
    "## 2.2 BMI philosophy\n",
    "\n",
    "BMI is middleware, meaning it is software that functions between other components (in our case a centralized framework—NextGen—and a model). It standardizes model querying, control, and coupling. \n",
    "\n",
    "BMI works because the functions are the same across models and languages. Making a model BMI compliant can remove (or mask) model idiosyncrasies.\n",
    "\n",
    "From the [BMI wiki](https://bmi.readthedocs.io/en/stable/): \n",
    "\n",
    "> We believe that numerical models, and the sub-components that make up those models, should offer…standardization. To this end, the Community Surface Dynamics Modeling System (CSDMS) has developed the Basic Model Interface (BMI): a set of **standard control and query functions** that, when added to a model code, make that model both easier to learn and easier to couple with other software elements.\n",
    "\n",
    "| BMI does… | BMI does not… |\n",
    "| :-  | :-  |\n",
    "| Control model runtime using standardized functions | Affect hydrologic model code|\n",
    "| Pass data in/out of models using standardized functions | Perform unit conversions |\n",
    "| Provide model and variable information | Perform spatial transforms |\n",
    "| Work across multiple languages and models | Provide information it’s not asked for |\n",
    "|  | Optimize model output or runtime performance |\n",
    "\n",
    "## 2.3 Making a model BMI compliant\n",
    "\n",
    "To be widely utilized, BMI does not prescribe many specific features that a model must have to be compliant. In brief, a model must:\n",
    "\n",
    "- Be coded in a supported language\n",
    "  - C, C++, Fortran, Python, Java\n",
    "- Follow the initialize-update-finalize paradigm\n",
    "- Employ separation of concerns\n",
    "- Implement time loops in a BMI-compliant way\n",
    "- Have state variables be accessible and settable\n",
    "- Have all BMI functions implemented\n",
    "  - Even if they just return BMI_FAILURE\n",
    "\n",
    "## 2.4 BMI functions\n",
    "\n",
    "With our limited workshop time, we won't cover every function in detail and will instead focus on a few important categories. To learn more on your own, see the [BMI basics workshop repo](https://github.com/SnowHydrology/ciroh_workshop_2023/) in this repo or view the [BMI wiki](https://bmi.readthedocs.io/en/stable/#the-basic-model-interface).\n",
    "\n",
    "CSDMS groups functions into six categories:\n",
    "\n",
    "1. Model information functions\n",
    "  - These describe the model and provide ancillary info like the number of input and output variables and their names\n",
    "  - You can use [CSDMS standard names](https://csdms.colorado.edu/wiki/CSDMS_Standard_Names)\n",
    "    - e.g. `atmosphere_water__precipitation_leq-volume_flux`\n",
    "2. Variable information functions\n",
    "  - These provide variable units, data types, and memory size\n",
    "  - NextGen uses standard unit definitions from [UDUNITS](https://www.unidata.ucar.edu/software/udunits/) to perform automatic unit conversion\n",
    "    - e.g. `meters`, `kg m-2`, `mm h-1`, `hours`, etc.\n",
    "3. Time functions\n",
    "  - These provide the model time step, beginning time, current time, end time\n",
    "4. Model control functions\n",
    "  - These start the model, run the model, and finalize the model\n",
    "5. Variable getter and setter functions\n",
    "  - These get and set values for implemented model state variables\n",
    "6. Model grid functions\n",
    "  - These describe the model's spatial discretization"
   ]
  },
  {
   "cell_type": "markdown",
   "id": "b0b4a2b3",
   "metadata": {},
   "source": [
    "# 3 Implementing BMI\n",
    "\n",
    "Now that we've seen the wrong way of doing things and had an introduction to BMI, we will walk through the transition from `snowPy` to `snowBMI`. \n",
    "\n",
    "## 3.1 Introducting snowBMI\n",
    "\n",
    "`snowBMI` is an improved, modularized version of `snowPy` with a BMI implementation available [here on GitHub](https://github.com/SnowHydrology/snowBMI/). The snow accumulation and melt code (i.e., the hydrologic processes) are the same, but almost everything else is different and better.\n",
    "\n",
    "For example, while `snowPy` used only a single file without any modularization. `snowBMI` breaks out the code into different files and modules. You can view the former in the directory structure below and we'll cover the latter shortly.\n",
    "\n",
    "```\n",
    "├── requirements.txt\n",
    "├── setup.cfg\n",
    "├── setup.py\n",
    "└── snow\n",
    "    ├── __init__.py\n",
    "    ├── _version.py\n",
    "    ├── bmi_snow.py\n",
    "    └── snow.py\n",
    "```\n",
    "\n",
    "Although this simplified conversion will likely differ from the more complex steps needed for other models, you can use it as a template or best practice guide in your work.\n",
    "\n",
    "## 3.2 Making your model BMI compliant\n",
    "\n",
    "In [Section 2.3](#2.3-Making-a-model-BMI-compliant) above, we saw some of the features that make a model BMI compliant. We'll walk through those now.\n",
    "\n",
    "### 3.2.1 Compatible language\n",
    "\n",
    "`snowPy` and `snowBMI` are both written in Python, a BMI-compatible language. Other CSDMS-supported BMI-compatible languages include C, C++, Java, and Fortran. All of those, except Java, are compatible with NextGen currently.\n",
    "\n",
    "### 3.2.2 Initialize-update-finalize\n",
    "\n",
    "BMI requires that your model follow the initialize-update-finalize paradigm. Most models do this already, but they may do it in ways (like `snowPy`) that make implementing BMI difficult.\n",
    "\n",
    "#### 3.2.2.1 Initialize \n",
    "\n",
    "`snowBMI` eschews the hard-coded parameter values of `snowPy` and replaces them with a user-settable configuration YAML file called `snow.yaml`."
   ]
  },
  {
   "cell_type": "markdown",
   "id": "ca2bb2b1",
   "metadata": {},
   "source": [
    "In addition, we've implemented other code that reads in the YAML file and populates the model object with its data.\n",
    "\n",
    "```python\n",
    "    @classmethod\n",
    "    def from_file_like(cls, file_like):\n",
    "        \"\"\"Create a Snow object from a file-like object.\n",
    "\n",
    "        Parameters\n",
    "        ----------\n",
    "        file_like : file_like\n",
    "            Input parameter file.\n",
    "\n",
    "        Returns\n",
    "        -------\n",
    "        Snow\n",
    "            A new instance of a Snow object.\n",
    "        \"\"\"\n",
    "        config = yaml.safe_load(file_like)\n",
    "        return cls(**config)\n",
    "```\n",
    "\n",
    "#### 3.2.2.2 Update\n",
    "\n",
    "In `snowPy` we wrote all of the hydrologic modeling code in the model's execution loop. That was not great. In `snowBMI`, we created two new functions. One is called `solve_snow` which comprises only snow accumulation and melt code. \n",
    "\n",
    "```python\n",
    "def solve_snow(temp, precip, doy, swe, melt, rain_snow, rs_thresh, snow_thresh_max, rain_thresh_min,\n",
    "               ddf_max, ddf_min, tair_melt_thresh):\n",
    "    \"\"\"Run the snow model for one time step to update the states and fluxes.\n",
    "\n",
    "```\n",
    "\n",
    "The other is called `advance_in_time` which calls `solve_snow` and then updates the model time based on the time step.\n",
    "\n",
    "```python\n",
    "def advance_in_time(self):\n",
    "        \"\"\"Run solve_snow and advance the model.\"\"\"\n",
    "```\n",
    "\n",
    "#### 3.2.2.3 Finalize\n",
    "\n",
    "Then we clear the model object in the finalize step (there was no equivalent step in `snowPy`). \n",
    "\n",
    "Importantly, we don't have any hard-coded data writing and instead rely on a calling program or central framework to write output in a standard way (more on this later).\n",
    "\n",
    "### 3.2.3 Separation of concerns\n",
    "\n",
    "We took care of separation of concerns, mostly, in the previous subsections. If you want your code to work effectively, you shouldn't mix processes across functions and modules. \n",
    "\n",
    "For example, you shouldn't have any initialize code in your update step. Otherwise, your model will be more difficult to understand and may produce unexpected behavior. \n",
    "\n",
    "### 3.2.4 Compliant time loops\n",
    "\n",
    "Your model run function (equivalent to `advance_in_time` should execute only one model time step. You can then place that function inside a time loop in your driver.\n",
    "\n",
    "**You should not have a time loop in your model run function.** If you do, your model will execute all time steps (even if it's not supposed to) when called by a centralized framework.\n",
    "\n",
    "### 3.2.5 Accessible model state variables\n",
    "\n",
    "In `snowPy` all variables had a global scope and a limited lifetime (only while the script was executing). For `snowBMI`, we converted the model to a package with a snow class populated by the model state variables we need access to. \n",
    "\n",
    "```python\n",
    "class Snow(object):\n",
    "    \"\"\"Snow model class.\"\"\"\n",
    "\n",
    "    def __init__(\n",
    "        self, rs_method=1, rs_thresh=2.5, snow_thresh_max=1.5, rain_thresh_min=4.5,\n",
    "            ddf_max=1, ddf_min=0, tair_melt_thresh=1, swe_init=0, dayofyear=274, year=2016,\n",
    "    ):\n",
    "\n",
    "        self._rs_method = rs_method\n",
    "        self._rs_thresh = rs_thresh\n",
    "        self._snow_thresh_max = snow_thresh_max\n",
    "        self._rain_thresh_min = rain_thresh_min\n",
    "        self._ddf_max = ddf_max\n",
    "        self._ddf_min = ddf_min\n",
    "        self._tair_melt_thresh = tair_melt_thresh\n",
    "\n",
    "        self._time = 0.0\n",
    "        self._time_step = 86400\n",
    "        self._dayofyear = dayofyear\n",
    "        self._year = year\n",
    "\n",
    "        self._tair_c = np.zeros(1, dtype=float)\n",
    "        self._ppt_mm = np.zeros(1, dtype=float)\n",
    "        self._swe_mm = np.zeros(1, dtype=float)\n",
    "        swe_tmp = np.zeros(1, dtype=float)\n",
    "        swe_tmp[0, ] = swe_init\n",
    "        self._swe_mm = swe_tmp\n",
    "        self._melt_mm = np.zeros(1, dtype=float)\n",
    "```\n",
    "\n",
    "This means that once the `snowBMI` model has been initialized, we can access the data using BMI functions, which we'll explore now.\n",
    "\n",
    "## 3.3 Implementing BMI functions\n",
    "\n",
    "As of this writing, there are 41 different functions in the BMI version 2.0 specification. Obviously we don't have time to cover all of them, so we'll cover some of the important ones for NextGen. \n",
    "\n",
    "NextGen does many things, but here are some highlights along with select (i.e., not all) relevant BMI functions:\n",
    "\n",
    "1. It initializes models\n",
    "  - BMI::initialize()\n",
    "2. It controls model runtime\n",
    "  - BMI::update()\n",
    "3. It closes models when they're completed to free up memory and other resources\n",
    "  - BMI::finalize()\n",
    "4. It passes forcing data to models (and can pass data between coupled models in a stack)\n",
    "  - BMI::get_value(), BMI::set_value()\n",
    "5. It can perform automated unit conversion when passing data\n",
    "  - BMI::get_var_units()\n",
    "6. It keeps the clock running for all models in an instance\n",
    "  - BMI::get_current_time(), BMI::get_time_step()\n",
    "\n",
    "We will discuss these further in the sections below. A few notes/reminders first:\n",
    "\n",
    "- *You must implement all BMI functions even if they only return BMI_FAILURE* for BMI to work.\n",
    "- *All necessary model functions must be wrapped inside or callable from a BMI function*. Otherwise, running the model with BMI won’t work (BMI can’t access what it doesn’t see).\n",
    "- *For this example* you need to have the Python BMI bindings already installed to define the abstract base classes that `bmi_snow.py` extends in `snowBMI`.\n",
    "\n",
    "For the full Python BMI specification, go to the [CSDMS GitHub page](https://github.com/csdms/bmi-python).\n",
    "\n",
    "### 3.3.1 BMI::initialize()\n",
    "\n",
    "The `initialize` function calls the previously defined `from_file_like` function to read in the configuration file and set initial model state and parameter values. \n",
    "\n",
    "You'll notice you don't have to move the `from_file_like` code to BMI--you can just call the already written function.\n",
    "\n",
    "You could also copy and paste your initialization code into the BMI function, but that requires a lot more work and leads to messy BMI implementations that are hard to understand (it's also not very modular or portable). *Let BMI do BMI things and let model code do model things.*\n",
    "\n",
    "The other thing this particular `initialize` function does is map the CSDMS standard names to the model variable names. We also give the UDUNITS-compliant units for each input and output variable. \n",
    "\n",
    "``` python\n",
    "def initialize(self, filename=None):\n",
    "        \"\"\"Initialize the model.\n",
    "\n",
    "        Parameters\n",
    "        ----------\n",
    "        filename : str, optional\n",
    "            Path to name of input file.\n",
    "        \"\"\"\n",
    "        if filename is None:\n",
    "            self._model = Snow()\n",
    "        elif isinstance(filename, str):\n",
    "            with open(filename, \"r\") as file_obj:\n",
    "                self._model = Snow.from_file_like(file_obj.read())\n",
    "        else:\n",
    "            self._model = Snow.from_file_like(filename)\n",
    "\n",
    "        self._values = {\"atmosphere_water__precipitation_leq-volume_flux\": self._model.ppt_mm,\n",
    "                        \"land_surface_air__temperature\": self._model.tair_c,\n",
    "                        \"snowpack__liquid-equivalent_depth\": self._model.swe_mm,\n",
    "                        \"snowpack__melt_volume_flux\": self._model.melt_mm}\n",
    "        self._var_units = {\"atmosphere_water__precipitation_leq-volume_flux\": \"mm d-1\",\n",
    "                           \"land_surface_air__temperature\": \"C\",\n",
    "                           \"snowpack__liquid-equivalent_depth\": \"mm\",\n",
    "                           \"snowpack__melt_volume_flux\": \"mm d-1\"}\n",
    "```\n",
    "\n",
    "### 3.3.2 BMI::update()\n",
    "\n",
    "Next we have a very short `update` function that calls `advance_in_time` which moves the model one time step and runs the `solve_snow` function we saw earlier. This is an example of a BMI function calling model functions that already existed.\n",
    "\n",
    "*You should not copy and paste all of your model's code into the `update` function.* Yes, you can technically do that, but just don't.\n",
    "\n",
    "``` python\n",
    "def update(self):\n",
    "        \"\"\"Advance model by one time step.\"\"\"\n",
    "        self._model.advance_in_time()\n",
    "```\n",
    "### 3.3.3 BMI::finalize()\n",
    "\n",
    "This is a simple function to implement for `snowBMI`, but lower-level languages with greater memory-handling challenges (I'm looking at you, C...) will be more complex.\n",
    "\n",
    "```python\n",
    "    def finalize(self):\n",
    "        \"\"\"Finalize model.\"\"\"\n",
    "        self._model = None\n",
    "```\n",
    "\n",
    "### 3.3.4 BMI::get_value() and BMI::set_value()\n",
    "\n",
    "The two main BMI getter/setter functions, `get_value` and `set_value`, do a lot of work in NextGen. The former returns the value(s) of a variable accessible via BMI, while the former lets you change the value(s) of a variable. \n",
    "\n",
    "In order for these functions to work, you must have your variable names mapped correctly.\n",
    "\n",
    "We'll see how these functions can be applied later in this notebook.\n",
    "\n",
    "```python\n",
    "def get_value(self, var_name, dest):\n",
    "        \"\"\"Copy of values.\n",
    "\n",
    "        Parameters\n",
    "        ----------\n",
    "        var_name : str\n",
    "            Name of variable as CSDMS Standard Name.\n",
    "        dest : ndarray\n",
    "            A numpy array into which to place the values.\n",
    "\n",
    "        Returns\n",
    "        -------\n",
    "        array_like\n",
    "            Copy of values.\n",
    "        \"\"\"\n",
    "        dest[:] = self.get_value_ptr(var_name).flatten()\n",
    "        return dest\n",
    "```\n",
    "\n",
    "```python\n",
    "def set_value(self, var_name, src):\n",
    "        \"\"\"Set model values.\n",
    "\n",
    "        Parameters\n",
    "        ----------\n",
    "        var_name : str\n",
    "            Name of variable as CSDMS Standard Name.\n",
    "        src : array_like\n",
    "            Array of new values.\n",
    "        \"\"\"\n",
    "        val = self.get_value_ptr(var_name)\n",
    "        val[:] = src.reshape(val.shape)\n",
    "```\n",
    "\n",
    "### 3.3.5 BMI::get_var_units()\n",
    "\n",
    "If you map your units to your variables correctly (as we did above), then this function is a breeze.\n",
    "\n",
    "```python\n",
    "    def get_var_units(self, var_name):\n",
    "        \"\"\"Get units of variable.\n",
    "\n",
    "        Parameters\n",
    "        ----------\n",
    "        var_name : str\n",
    "            Name of variable as CSDMS Standard Name.\n",
    "\n",
    "        Returns\n",
    "        -------\n",
    "        str\n",
    "            Variable units.\n",
    "        \"\"\"\n",
    "        return self._var_units[var_name]\n",
    "```\n",
    "\n",
    "Because NextGen can use this function to query a variable's units, it can use UDUNITS to perform automated unit conversion.\n",
    "\n",
    "### 3.3.6 BMI::get_current_time() and BMI::get_time_step()\n",
    "\n",
    "As with the function above, these two are particularly easy to implement but important to do so correctly.\n",
    "\n",
    "```python\n",
    "\n",
    "    def get_current_time(self):\n",
    "        return self._model.time\n",
    "\n",
    "    def get_time_step(self):\n",
    "        return self._model.time_step\n",
    "```\n",
    "\n",
    "If you have `time` and `time_step` accessible in your model class, then NextGen can use BMI functions to keep the model clock correctly.\n",
    "\n",
    "# 3.4 Putting it all together\n",
    "\n",
    "What we've just done is taken a single Python script called `snowPy` and gone through a series of steps to make it compatible with BMI. \n",
    "\n",
    "We then implemented BMI functions, ending with a new Python package called `snowBMI` that can run in a centralized framework."
   ]
  },
  {
   "cell_type": "markdown",
   "id": "2337ecb9",
   "metadata": {},
   "source": [
    "# 4 Running `snowBMI` with BMI commands"
   ]
  },
  {
   "cell_type": "markdown",
   "id": "d8af7a3e",
   "metadata": {},
   "source": [
    "## 4.1 Initialize"
   ]
  },
  {
   "cell_type": "markdown",
   "id": "d4ab8f9b",
   "metadata": {},
   "source": [
    "Create an instance of the model with its BMI wrapper."
   ]
  },
  {
   "cell_type": "code",
   "execution_count": 6,
   "id": "84f986eb",
   "metadata": {},
   "outputs": [],
   "source": [
    "x = SnowBmi()"
   ]
  },
  {
   "cell_type": "markdown",
   "id": "56e2927c",
   "metadata": {},
   "source": [
    "Let's take a look at the configuration file we'll use for `snowBMI` and then run the BMI `initialize` function."
   ]
  },
  {
   "cell_type": "code",
   "execution_count": 7,
   "id": "d6c51c92",
   "metadata": {},
   "outputs": [
    {
     "name": "stdout",
     "output_type": "stream",
     "text": [
      "# Snow model configuration\r\n",
      "rs_method: 1         # 1 = single threshold, 2 = dual threshold\r\n",
      "rs_thresh: 2.5       # rain-snow temperature threshold when rs_method = 1 (°C)\r\n",
      "snow_thresh_max: 1.5 # maximum all-snow temp when rs_method = 2 (°C)\r\n",
      "rain_thresh_min: 4.5 # minimum all-rain temp when rs_method = 2 (°C)\r\n",
      "ddf_max: 2           # maximum degree day melt factor (mm/day/°C)\r\n",
      "ddf_min: 0           # minimum degree day melt factor (mm/day/°C)\r\n",
      "tair_melt_thresh: 1  # air temperature threshold above which melt can occur (°C)\r\n",
      "swe_init: 0          # initial snow water equivalent (mm)\r\n",
      "dayofyear: 274       # Day of year of simulation start (ex: 1 = Jan 1, 274 = Oct 1)\r\n",
      "year: 2012           # year of simulation start"
     ]
    }
   ],
   "source": [
    "cat snow.yaml"
   ]
  },
  {
   "cell_type": "code",
   "execution_count": 8,
   "id": "b28d0484",
   "metadata": {},
   "outputs": [],
   "source": [
    "x.initialize(\"snow.yaml\")"
   ]
  },
  {
   "cell_type": "markdown",
   "id": "9cd9a766",
   "metadata": {},
   "source": [
    "## 4.2 Get info on the model"
   ]
  },
  {
   "cell_type": "markdown",
   "id": "68250843",
   "metadata": {},
   "source": [
    "Now we can start using BMI functions to get key model information. First, we'll use the BMI `get_component_name` function."
   ]
  },
  {
   "cell_type": "code",
   "execution_count": 10,
   "id": "2a65f65d",
   "metadata": {},
   "outputs": [
    {
     "name": "stdout",
     "output_type": "stream",
     "text": [
      "Temperature Index Snow Model with BMI\n"
     ]
    }
   ],
   "source": [
    "print(x.get_component_name())"
   ]
  },
  {
   "cell_type": "markdown",
   "id": "e88dd3d1",
   "metadata": {},
   "source": [
    "We can also use standardized BMI functions to get the number of input and output variables, along with their names."
   ]
  },
  {
   "cell_type": "code",
   "execution_count": 11,
   "id": "b9b7bfec",
   "metadata": {
    "scrolled": true
   },
   "outputs": [
    {
     "name": "stdout",
     "output_type": "stream",
     "text": [
      "There are 2 input variables\n",
      "Input vars = ('atmosphere_water__precipitation_leq-volume_flux', 'land_surface_air__temperature')\n",
      "There are 2 output variables\n",
      "Output vars = ('snowpack__liquid-equivalent_depth', 'snowpack__melt_volume_flux')\n"
     ]
    }
   ],
   "source": [
    "print(\"There are\", x.get_input_item_count(), \"input variables\")\n",
    "print(\"Input vars =\", x.get_input_var_names())\n",
    "print(\"There are\", x.get_output_item_count(), \"output variables\")\n",
    "print(\"Output vars =\", x.get_output_var_names())"
   ]
  },
  {
   "cell_type": "markdown",
   "id": "9adbb47a",
   "metadata": {},
   "source": [
    "We can get additional variable info using the other BMI var functions."
   ]
  },
  {
   "cell_type": "code",
   "execution_count": 12,
   "id": "ac21ec15",
   "metadata": {},
   "outputs": [
    {
     "name": "stdout",
     "output_type": "stream",
     "text": [
      "atmosphere_water__precipitation_leq-volume_flux with units of mm d-1 is a float64 variable that takes up 8 bytes of memory\n",
      "land_surface_air__temperature with units of C is a float64 variable that takes up 8 bytes of memory\n"
     ]
    }
   ],
   "source": [
    "input_vars = x.get_input_var_names()\n",
    "for tmp in input_vars:\n",
    "    print(tmp, \"with units of\", x.get_var_units(tmp), \"is a\", x.get_var_type(tmp), \n",
    "          \"variable that takes up\", x.get_var_nbytes(tmp), \"bytes of memory\")"
   ]
  },
  {
   "cell_type": "markdown",
   "id": "0c36fdd6",
   "metadata": {},
   "source": [
    "Check the time information for the model."
   ]
  },
  {
   "cell_type": "code",
   "execution_count": 13,
   "id": "1d956322",
   "metadata": {},
   "outputs": [
    {
     "name": "stdout",
     "output_type": "stream",
     "text": [
      "Start time: 0.0\n",
      "End time: 1.7976931348623157e+308\n",
      "Current time: 0.0\n",
      "Time step: 86400\n",
      "Time units: s\n"
     ]
    }
   ],
   "source": [
    "print(\"Start time:\", x.get_start_time())\n",
    "print(\"End time:\", x.get_end_time())\n",
    "print(\"Current time:\", x.get_current_time())\n",
    "print(\"Time step:\", x.get_time_step())\n",
    "print(\"Time units:\", x.get_time_units())"
   ]
  },
  {
   "cell_type": "markdown",
   "id": "ad2d6a71",
   "metadata": {},
   "source": [
    "## 4.3 Get and set values\n",
    "\n",
    "Let's now use standard BMI functions to get and set variable values.\n",
    "\n",
    "First we'll play around with air temperature."
   ]
  },
  {
   "cell_type": "code",
   "execution_count": 25,
   "id": "9a76058f",
   "metadata": {
    "scrolled": true
   },
   "outputs": [
    {
     "name": "stdout",
     "output_type": "stream",
     "text": [
      "Air temperature from get_value = [0.]\n",
      "Air temperature from get_value_ptr = [0.]\n"
     ]
    }
   ],
   "source": [
    "# when the model is initialized, air temperature equals 0\n",
    "# we can check this using either get_value or get_value_ptr\n",
    "temp_array = np.zeros(1,)\n",
    "x.get_value('land_surface_air__temperature', temp_array)\n",
    "print(\"Air temperature from get_value =\", temp_array)\n",
    "print(\"Air temperature from get_value_ptr =\", x.get_value_ptr('land_surface_air__temperature'))"
   ]
  },
  {
   "cell_type": "markdown",
   "id": "8f12e560",
   "metadata": {},
   "source": [
    "We see above that values from both functions are the same. Now we can set air temperature to a new value and confirm that it did indeed change."
   ]
  },
  {
   "cell_type": "code",
   "execution_count": 26,
   "id": "09fbc3a4",
   "metadata": {},
   "outputs": [
    {
     "name": "stdout",
     "output_type": "stream",
     "text": [
      "Air temperature from get_value after set_value= [-5.]\n",
      "Air temperature from get_value_ptr after set_value= [-5.]\n"
     ]
    }
   ],
   "source": [
    "# Now we can set the value of air temperature\n",
    "# first make a numpy single-element array and give it a value\n",
    "air_temperature = np.full(1, -5)\n",
    "\n",
    "# Then set the value and check it with get_value\n",
    "x.set_value(\"land_surface_air__temperature\", air_temperature)\n",
    "x.get_value('land_surface_air__temperature', temp_array)\n",
    "print(\"Air temperature from get_value after set_value=\", temp_array)\n",
    "print(\"Air temperature from get_value_ptr after set_value=\", x.get_value_ptr('land_surface_air__temperature'))"
   ]
  },
  {
   "cell_type": "markdown",
   "id": "dd75aa66",
   "metadata": {},
   "source": [
    "And let's do the same for precipitation"
   ]
  },
  {
   "cell_type": "code",
   "execution_count": 27,
   "id": "5d9107c7",
   "metadata": {},
   "outputs": [
    {
     "name": "stdout",
     "output_type": "stream",
     "text": [
      "Precipitation from get_value_ptr = [0.]\n",
      "Precipitation from get_value_ptr after set_value= [10.]\n"
     ]
    }
   ],
   "source": [
    "precip = np.full(1, 10)\n",
    "print(\"Precipitation from get_value_ptr =\", x.get_value_ptr(\"atmosphere_water__precipitation_leq-volume_flux\"))\n",
    "x.set_value(\"atmosphere_water__precipitation_leq-volume_flux\", precip)\n",
    "print(\"Precipitation from get_value_ptr after set_value=\", x.get_value_ptr('atmosphere_water__precipitation_leq-volume_flux'))"
   ]
  },
  {
   "cell_type": "markdown",
   "id": "ef0e919b",
   "metadata": {},
   "source": [
    "A key advantage of BMI is that **we don't have to know the names of any of the input or output variables**. We can query the model and have standardized BMI functions return their names and values (and even their units!). This means no more spending hours poring over code to get the simplest info—you can use the same functions over and over again to get the info you require."
   ]
  },
  {
   "cell_type": "code",
   "execution_count": 28,
   "id": "99014c49",
   "metadata": {},
   "outputs": [
    {
     "name": "stdout",
     "output_type": "stream",
     "text": [
      "atmosphere_water__precipitation_leq-volume_flux = [10.] mm d-1\n",
      "land_surface_air__temperature = [-5.] C\n",
      "snowpack__liquid-equivalent_depth = [0.] mm\n",
      "snowpack__melt_volume_flux = [0.] mm d-1\n"
     ]
    }
   ],
   "source": [
    "# we can also look at all values with a loop\n",
    "input_vars = x.get_input_var_names()\n",
    "for tmp in input_vars:\n",
    "    print(tmp, \"=\", x.get_value_ptr(tmp), x.get_var_units(tmp))\n",
    "output_vars = x.get_output_var_names()\n",
    "for tmp in output_vars:\n",
    "    print(tmp, \"=\", x.get_value_ptr(tmp), x.get_var_units(tmp))"
   ]
  },
  {
   "cell_type": "markdown",
   "id": "0e03de1d",
   "metadata": {},
   "source": [
    "# 4.4 Run the model with real SNOTEL forcing\n",
    "\n",
    "Although it's fun to look at printed data and manually get/set values, let's try running an example simulation now using real forcing data from a SNOTEL station. First, we'll finalize and then reinitialize the model."
   ]
  },
  {
   "cell_type": "code",
   "execution_count": 14,
   "id": "dc5dcf6e",
   "metadata": {},
   "outputs": [],
   "source": [
    "# Finalize the model\n",
    "x.finalize()\n",
    "\n",
    "# Reinitialize the model\n",
    "x.initialize(\"snow.yaml\")"
   ]
  },
  {
   "cell_type": "markdown",
   "id": "bd7a3039",
   "metadata": {},
   "source": [
    "Now let's a look at the variables again to confirm they're reset."
   ]
  },
  {
   "cell_type": "code",
   "execution_count": 15,
   "id": "45fd839b",
   "metadata": {},
   "outputs": [
    {
     "name": "stdout",
     "output_type": "stream",
     "text": [
      "atmosphere_water__precipitation_leq-volume_flux = [0.] mm d-1\n",
      "land_surface_air__temperature = [0.] C\n",
      "snowpack__liquid-equivalent_depth = [0.] mm\n",
      "snowpack__melt_volume_flux = [0.] mm d-1\n"
     ]
    }
   ],
   "source": [
    "input_vars = x.get_input_var_names()\n",
    "for tmp in input_vars:\n",
    "    print(tmp, \"=\", x.get_value_ptr(tmp), x.get_var_units(tmp))\n",
    "output_vars = x.get_output_var_names()\n",
    "for tmp in output_vars:\n",
    "    print(tmp, \"=\", x.get_value_ptr(tmp), x.get_var_units(tmp))"
   ]
  },
  {
   "cell_type": "markdown",
   "id": "df616e54",
   "metadata": {},
   "source": [
    "Yep, everything's back to zero, so let's import and view the forcing data."
   ]
  },
  {
   "cell_type": "code",
   "execution_count": 17,
   "id": "594ede9c",
   "metadata": {},
   "outputs": [
    {
     "name": "stdout",
     "output_type": "stream",
     "text": [
      "         date  swe_mm  tair_c  ppt_mm\n",
      "0  2012-10-01     0.0     5.4     0.0\n",
      "1  2012-10-02     0.0    10.6     0.0\n",
      "2  2012-10-03     0.0     7.5     0.0\n",
      "3  2012-10-04     0.0    -1.1     0.0\n",
      "4  2012-10-05     0.0    -1.3     0.0\n",
      "5  2012-10-06     0.0    -5.6     0.0\n",
      "6  2012-10-07     0.0    -0.5     2.5\n",
      "7  2012-10-08     0.0     5.2     0.0\n",
      "8  2012-10-09     0.0     3.9     0.0\n",
      "9  2012-10-10     0.0     6.8     0.0\n"
     ]
    }
   ],
   "source": [
    "# Import the example SNOTEL data\n",
    "forcing = pd.read_csv(\"../data/snotel_663_data.csv\")\n",
    "print(forcing.head(10))"
   ]
  },
  {
   "cell_type": "markdown",
   "id": "f57ded6d",
   "metadata": {},
   "source": [
    "We can see in the dataframe above that we have everything we need to run `snowBMI`, specifically air temperature and precipitation.\n",
    "\n",
    "Now we can run a `snowBMI` update loop based on the number of entries in the forcing data. Importantly, we'll use `BMI::set_value` to apply the forcing data to the model and `BMI::get_value` to access model data for plotting and analysis."
   ]
  },
  {
   "cell_type": "code",
   "execution_count": 18,
   "id": "3a853ae0",
   "metadata": {},
   "outputs": [],
   "source": [
    "# Make an empty array to store the output data\n",
    "swe_output = np.zeros(forcing.date.size)\n",
    "\n",
    "# Loop through the data and run snowBMI\n",
    "for i in range(forcing.date.size):\n",
    "    air_temperature = np.full(1, forcing.tair_c[i])\n",
    "    precip = np.full(1, forcing.ppt_mm[i])\n",
    "    x.set_value(\"land_surface_air__temperature\", air_temperature)\n",
    "    x.set_value(\"atmosphere_water__precipitation_leq-volume_flux\", precip)\n",
    "    x.update()\n",
    "    swe_output[i] = x.get_value_ptr(\"snowpack__liquid-equivalent_depth\")"
   ]
  },
  {
   "cell_type": "markdown",
   "id": "1ff8ddf0",
   "metadata": {},
   "source": [
    "## 4.5 Plot and evaluate the model output\n",
    "\n",
    "Now we can compare the observed SWE to the simulated."
   ]
  },
  {
   "cell_type": "code",
   "execution_count": 19,
   "id": "0d675377",
   "metadata": {},
   "outputs": [
    {
     "data": {
      "image/png": "[encoded data removed]",
      "text/plain": [
       "<Figure size 720x504 with 1 Axes>"
      ]
     },
     "metadata": {
      "needs_background": "light"
     },
     "output_type": "display_data"
    }
   ],
   "source": [
    "# Plot the simulated and observed SWE\n",
    "plt.figure(figsize=(10, 7))\n",
    "plt.plot(swe_output,label='Sim. SWE')\n",
    "plt.plot(forcing.swe_mm, label='Obs. SWE')\n",
    "plt.ylabel('SWE (mm)')\n",
    "plt.xlabel('Day of Simulation')\n",
    "plt.legend()\n",
    "plt.show()\n",
    "plt.close()"
   ]
  },
  {
   "cell_type": "markdown",
   "id": "7a6a5d4c",
   "metadata": {},
   "source": [
    "All in all, that's a pretty good result for a non-calibrated temperature index snow model that completely ignores snow hydrology and runs on a daily time step. In fact, we can calculate its Nash Sutcliffe efficiency (NSE) and mean bias. "
   ]
  },
  {
   "cell_type": "code",
   "execution_count": 20,
   "id": "10988455",
   "metadata": {},
   "outputs": [
    {
     "name": "stdout",
     "output_type": "stream",
     "text": [
      "NSE: 0.94\n",
      "Mean bias: 4.68 mm\n"
     ]
    }
   ],
   "source": [
    "# Calculate and print NSE\n",
    "obs = forcing.swe_mm\n",
    "sim = swe_output\n",
    "nse_denominator = ((obs - obs.mean())**2).sum()\n",
    "nse_numerator = ((sim - obs)**2).sum()\n",
    "nse = 1 - nse_numerator / nse_denominator\n",
    "print(\"NSE: {:.2f}\".format(nse))\n",
    "\n",
    "# Calculate mean bias\n",
    "mean_bias = sim.mean() - obs.mean()\n",
    "print(\"Mean bias: {:.2f}\".format(mean_bias), \"mm\")"
   ]
  },
  {
   "cell_type": "markdown",
   "id": "b77a548d",
   "metadata": {},
   "source": [
    "If only all of our models could be so good! Okay, let's end this and finalize our run."
   ]
  },
  {
   "cell_type": "code",
   "execution_count": 37,
   "id": "aedd0b33",
   "metadata": {},
   "outputs": [],
   "source": [
    "x.finalize()"
   ]
  },
  {
   "cell_type": "markdown",
   "id": "d0526fc7",
   "metadata": {},
   "source": [
    "# 5 Coupling `snowBMI` with `linearresBMI` using BMI commands"
   ]
  },
  {
   "cell_type": "markdown",
   "id": "4cfb8438",
   "metadata": {},
   "source": [
    "We've now run `snowBMI`, which is great, but snow accumulation and melt is only part of the hydrologic balance. What if we also wanted to represent runoff processes by coupling another model to `snowBMI`?\n",
    "\n",
    "In the past, the coupling process could take weeks to months of refactoring model code and painfully stitching together two independently developed models (if it were possible at all). BMI, yet again, standardizes the process for easy modeling coupling.\n",
    "\n",
    "Let's demonstrate this now using `linearresBMI`, which is a linear reservoir model to simulate discharge. **Note,** in this case, our linear reservoir assumes all incoming water fluxes exit the model domain as discharge (i.e., we're not representing evapotranspiration or aquifer recharge)."
   ]
  },
  {
   "cell_type": "markdown",
   "id": "526c14de",
   "metadata": {},
   "source": [
    "## 5.1 Import the module\n",
    "We've already imported `os`, `numpy`, `pandas`, `matplotlib`, and `snowBMI`, now we just need `linearresBMI`."
   ]
  },
  {
   "cell_type": "code",
   "execution_count": 38,
   "id": "dc52017f",
   "metadata": {},
   "outputs": [],
   "source": [
    "from linearres import LinearresBmi"
   ]
  },
  {
   "cell_type": "markdown",
   "id": "c4b71a69",
   "metadata": {},
   "source": [
    "## 5.2 Initialize"
   ]
  },
  {
   "cell_type": "markdown",
   "id": "3dd20006",
   "metadata": {},
   "source": [
    "Create an instance of the model's BMI. (We'll also reinitialize `snowBMI` to make sure we're starting fresh.)"
   ]
  },
  {
   "cell_type": "code",
   "execution_count": 39,
   "id": "fb025893",
   "metadata": {},
   "outputs": [],
   "source": [
    "x = SnowBmi()\n",
    "y = LinearresBmi()"
   ]
  },
  {
   "cell_type": "markdown",
   "id": "3e21f0bc",
   "metadata": {},
   "source": [
    "Use the BMI `get_component_name` function to query the model's name."
   ]
  },
  {
   "cell_type": "code",
   "execution_count": 40,
   "id": "260c444b",
   "metadata": {},
   "outputs": [
    {
     "name": "stdout",
     "output_type": "stream",
     "text": [
      "Temperature Index Snow Model with BMI\n",
      "Linear Reservoir Model with BMI\n"
     ]
    }
   ],
   "source": [
    "print(x.get_component_name())\n",
    "print(y.get_component_name())"
   ]
  },
  {
   "cell_type": "markdown",
   "id": "3a7b15bc",
   "metadata": {},
   "source": [
    "Now we'll start both models through using configuration files. We'll just look at the `linearresBMI` config becuase we've already seen the one for `snowBMI`."
   ]
  },
  {
   "cell_type": "code",
   "execution_count": 41,
   "id": "109faddc",
   "metadata": {},
   "outputs": [
    {
     "name": "stdout",
     "output_type": "stream",
     "text": [
      "# Linear reservoir model configuration\r\n",
      "k: 0.25              # loss factor parameter for linear reservoir\r\n",
      "discharge_init: 10 # initial discharge (mm d-1)"
     ]
    }
   ],
   "source": [
    "cat linearres.yaml"
   ]
  },
  {
   "cell_type": "markdown",
   "id": "c5db643d",
   "metadata": {},
   "source": [
    "Let's initialize both models with their configs."
   ]
  },
  {
   "cell_type": "code",
   "execution_count": 42,
   "id": "01b90007",
   "metadata": {},
   "outputs": [],
   "source": [
    "x.initialize(\"snow.yaml\")\n",
    "y.initialize(\"linearres.yaml\")"
   ]
  },
  {
   "cell_type": "markdown",
   "id": "3846d060",
   "metadata": {},
   "source": [
    "## 5.3 Get info on the models\n",
    "\n",
    "You can see below that linearresBMI and snowBMI run on the same time step, making coupling straightforward."
   ]
  },
  {
   "cell_type": "code",
   "execution_count": 43,
   "id": "68915a4e",
   "metadata": {},
   "outputs": [
    {
     "name": "stdout",
     "output_type": "stream",
     "text": [
      "Time step snowBMI: 86400\n",
      "Time units snowBMI: s\n",
      "Time step linearresBMI: 86400\n",
      "Time units linearresBMI: s\n"
     ]
    }
   ],
   "source": [
    "print(\"Time step snowBMI:\", x.get_time_step())\n",
    "print(\"Time units snowBMI:\", x.get_time_units())\n",
    "print(\"Time step linearresBMI:\", y.get_time_step())\n",
    "print(\"Time units linearresBMI:\", y.get_time_units())"
   ]
  },
  {
   "cell_type": "markdown",
   "id": "0f5287a4",
   "metadata": {},
   "source": [
    "We can also look at the input and output vars."
   ]
  },
  {
   "cell_type": "code",
   "execution_count": 44,
   "id": "119fbd46",
   "metadata": {},
   "outputs": [
    {
     "name": "stdout",
     "output_type": "stream",
     "text": [
      "Input vars snowBMI = ('atmosphere_water__precipitation_leq-volume_flux', 'land_surface_air__temperature')\n",
      "Output vars snowBMI = ('snowpack__liquid-equivalent_depth', 'snowpack__melt_volume_flux')\n",
      "Input vars linearresBMI = ('atmosphere_water__precipitation_leq-volume_flux',)\n",
      "Output vars linearresBMI = ('land_surface_water__runoff_volume_flux',)\n"
     ]
    }
   ],
   "source": [
    "print(\"Input vars snowBMI =\", x.get_input_var_names())\n",
    "print(\"Output vars snowBMI =\", x.get_output_var_names())\n",
    "print(\"Input vars linearresBMI =\", y.get_input_var_names())\n",
    "print(\"Output vars linearresBMI =\", y.get_output_var_names())"
   ]
  },
  {
   "cell_type": "markdown",
   "id": "38a0b0e2",
   "metadata": {},
   "source": [
    "Interestingly, `snowBMI` and `linearresBMI` both require precipitation as a forcing variable. Does that mean we can just take precip from the `snowBMI` forcing and pipe it into `linearresBMI`? Not exactly.\n",
    "\n",
    "`linearresBMI` doesn't handle snow accumulation and melt because it assumes all incoming precipitation is liquid. So we need a snow model in this particular location to represent those processes.\n",
    "\n",
    "What this does mean is that **we can couple the two models by using BMI functions** to pass output data from `snowBMI` to `linearresBMI`, namely *snowpack__melt_volume_flux* to *atmosphere_water__precipitation_leq-volume_flux*."
   ]
  },
  {
   "cell_type": "markdown",
   "id": "6294e141",
   "metadata": {},
   "source": [
    "## 5.4 Run the coupled models\n",
    "\n",
    "Now that we understand BMI functions and the two models, we can couple them and run them. We'll use the forcing data from the `snowBMI` example and save output data in a new data frame for discharge."
   ]
  },
  {
   "cell_type": "code",
   "execution_count": 45,
   "id": "0b13930f",
   "metadata": {},
   "outputs": [],
   "source": [
    "# Make an empty array to store the output data\n",
    "discharge_output = np.zeros(forcing.date.size)"
   ]
  },
  {
   "cell_type": "markdown",
   "id": "df468164",
   "metadata": {},
   "source": [
    "Now let's run a BMI update loop, passing the data via get and set value."
   ]
  },
  {
   "cell_type": "code",
   "execution_count": 46,
   "id": "5ff5aa95",
   "metadata": {},
   "outputs": [],
   "source": [
    "# Loop through the data and run models\n",
    "for i in range(forcing.date.size):\n",
    "    # Get the forcing data\n",
    "    air_temperature = np.full(1, forcing.tair_c[i])\n",
    "    precip = np.full(1, forcing.ppt_mm[i])\n",
    "    # Set the forcing data values in snowBMI \n",
    "    x.set_value(\"land_surface_air__temperature\", air_temperature)\n",
    "    x.set_value(\"atmosphere_water__precipitation_leq-volume_flux\", precip)\n",
    "    # Update snowBMI\n",
    "    x.update()\n",
    "    # Get the melt value from snowBMI and set it as the precip of linearresBMI\n",
    "    y.set_value(\"atmosphere_water__precipitation_leq-volume_flux\", x.get_value_ptr(\"snowpack__melt_volume_flux\"))\n",
    "    # Update linearresBMI\n",
    "    y.update()\n",
    "    # Save the discharge output\n",
    "    discharge_output[i] = y.get_value_ptr(\"land_surface_water__runoff_volume_flux\")"
   ]
  },
  {
   "cell_type": "markdown",
   "id": "635f98ee",
   "metadata": {},
   "source": [
    "## 5.5 Plot the model output\n",
    "\n",
    "Now we can look at the simulated discharge."
   ]
  },
  {
   "cell_type": "code",
   "execution_count": 47,
   "id": "3dd1245a",
   "metadata": {},
   "outputs": [
    {
     "data": {
      "image/png": "[encoded data removed]",
      "text/plain": [
       "<Figure size 720x504 with 1 Axes>"
      ]
     },
     "metadata": {
      "needs_background": "light"
     },
     "output_type": "display_data"
    }
   ],
   "source": [
    "# Plot the simulated and observed SWE\n",
    "plt.figure(figsize=(10, 7))\n",
    "plt.plot(discharge_output,label='Sim. Q')\n",
    "plt.ylabel('Q (mm/d)')\n",
    "plt.xlabel('Day of Simulation')\n",
    "plt.legend()\n",
    "plt.show()\n",
    "plt.close()"
   ]
  },
  {
   "cell_type": "code",
   "execution_count": 48,
   "id": "0b6d7e02",
   "metadata": {},
   "outputs": [],
   "source": [
    "# And finalize the models\n",
    "x.finalize()\n",
    "y.finalize()"
   ]
  },
  {
   "cell_type": "markdown",
   "id": "ad5d2c7f",
   "metadata": {},
   "source": [
    "# 6 Wrap-Up\n",
    "\n",
    "That about does it. In this notebook, we:\n",
    "\n",
    "1. Learned how to access and set up the `snowBMI` and `linearresBMI` models\n",
    "2. Got an introduction to BMI functions and their implementation\n",
    "3. Ran a single model with BMI commands\n",
    "4. Coupled two models using BMI commands\n",
    "\n",
    "Feel free to contact me using the resources up top if you have any questions (or if you see any bugs in the code). Until we meet again, please take a look through the BMI and NextGen references below. Thanks! "
   ]
  },
  {
   "cell_type": "markdown",
   "id": "d5758146",
   "metadata": {},
   "source": [
    "# References and further reading (and watching)\n",
    "\n",
    "- [BMI](https://csdms.colorado.edu/wiki/BMI) from CSDMS\n",
    "- The BMI Python [heat](https://github.com/csdms/bmi-example-python) example\n",
    "- *Hutton, E.W., Piper, M.D., and Tucker, G.E., 2020. The Basic Model Interface 2.0: A standard interface for coupling numerical models in the geosciences. Journal of Open Source Software, 5(51), 2317, https://doi.org/10.21105/joss.02317.*\n",
    "- *Peckham, S.D., Hutton, E.W., and Norris, B., 2013. A component-based approach to integrated modeling in the geosciences: The design of CSDMS. Computers & Geosciences, 53, pp.3-12, http://dx.doi.org/10.1016/j.cageo.2012.04.002.*\n",
    "- Temperature index snow models like Snow-17 and the equations in DeWalle and Rango (2008)\n",
    "    - _Anderson, E. A. \"Snow accumulation and ablation model–SNOW-17.\" US National Weather Service, Silver Spring, MD 61 (2006)._\n",
    "    - _DeWalle, David R., and Albert Rango. Principles of Snow Hydrology. Cambridge University Press, 2008._\n",
    "- Wikipedia's entry on [runoff models](https://en.wikipedia.org/wiki/Runoff_model_(reservoir)) (yes, that Wikipedia)\n",
    "    - The linear reservoir equation cites this document: *J.W. de Zeeuw, 1973. Hydrograph analysis for areas with mainly groundwater runoff. In: Drainage Principle and Applications, Vol. II, Chapter 16, Theories of field drainage and watershed runoff. p 321-358. Publication 16, International Institute for Land Reclamation and Improvement (ILRI), Wageningen, The Netherlands.* (good luck finding it!)\n",
    "- The Next Generation Water Prediction Capability project at the NOAA-NWS Office of Water Prediction\n",
    "   - GitHub repo for the [NextGen Framework](https://github.com/NOAA-OWP/ngen)\n",
    "   - BMI implementation of the [LSTM](https://github.com/NOAA-OWP/lstm/) machine learning model\n",
    "   - [CUAHSI Town Hall with NOAA’s National Water Center](https://www.youtube.com/watch?v=pPUyhmj2mFM)\n"
   ]
  }
 ],
 "metadata": {
  "kernelspec": {
   "display_name": "Python 3 (ipykernel)",
   "language": "python",
   "name": "python3"
  },
  "language_info": {
   "codemirror_mode": {
    "name": "ipython",
    "version": 3
   },
   "file_extension": ".py",
   "mimetype": "text/x-python",
   "name": "python",
   "nbconvert_exporter": "python",
   "pygments_lexer": "ipython3",
   "version": "3.9.12"
  }
 },
 "nbformat": 4,
 "nbformat_minor": 5
}
